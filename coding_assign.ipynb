{
 "cells": [
  {
   "cell_type": "markdown",
   "metadata": {},
   "source": [
    "###  Name: Chinedu Onyeka"
   ]
  },
  {
   "cell_type": "markdown",
   "metadata": {},
   "source": [
    "The airshow.mp4 video has been downloaded and resides in the attcoding folder"
   ]
  },
  {
   "cell_type": "code",
   "execution_count": 1,
   "metadata": {},
   "outputs": [],
   "source": [
    "abs_path = 'C:\\\\Users\\\\exper\\\\OneDrive\\\\Documents\\\\Jobs\\\\Interviews\\\\ATT\\\\attcoding'\n",
    "file_name = \"airshow.mp4\""
   ]
  },
  {
   "cell_type": "code",
   "execution_count": 2,
   "metadata": {},
   "outputs": [],
   "source": [
    "class CutVideo:\n",
    "    \n",
    "    def __init__(self, file_name, abs_path):\n",
    "        \"\"\"\n",
    "        file_name: filename(with mp4 extention) of the video.\"\n",
    "        abs_path: absolute path where the file_name is located\n",
    "        \"\"\"\n",
    "        self.file_name = file_name\n",
    "        self.abs_path = abs_path\n",
    "        \n",
    "    \n",
    "    def create_folder(self, folder_name):\n",
    "        \"\"\"This function creates a folder called 'folder_name' in the abs_path given\n",
    "        \n",
    "        parameter:\n",
    "        =========\n",
    "            folder_name: name of the folder you want to create\n",
    "        \"\"\"\n",
    "        import os\n",
    "        path_name = self.abs_path + \"\\\\\" + folder_name\n",
    "        if not os.path.exists(path_name):\n",
    "            os.makedirs(path_name)\n",
    "    \n",
    "    def clip_duration(self):\n",
    "        \"\"\"\n",
    "        This function returns the duration of a given mp4 video\n",
    "\n",
    "        parameter:\n",
    "        ==========\n",
    "            file_name: filename(\"with mp4 extention\") of the video that you want to get the duration for.\n",
    "        output:\n",
    "        =======\n",
    "            duration: duration in seconds for the video file name entered.\n",
    "        \"\"\"\n",
    "        import os\n",
    "        from moviepy.editor import VideoFileClip\n",
    "        clip_path = self.abs_path + \"\\\\\" + self.file_name\n",
    "        clip = VideoFileClip(clip_path)\n",
    "        clip_duration = clip.duration\n",
    "        return clip_duration\n",
    "    \n",
    "    def cut_clip(self, video_clips_folder):\n",
    "        import os\n",
    "        from moviepy.video.io.ffmpeg_tools import ffmpeg_extract_subclip\n",
    "        \"\"\"\n",
    "        This function cuts a video returns about 1 minute clips of a given mp4 video\n",
    "\n",
    "        parameter:\n",
    "        ==========\n",
    "            video_clips_folder: folder name where you want the video clips to be stored. Should exist in current working dir\n",
    "        output:\n",
    "        =======\n",
    "            1 minute clips: one minute clips of the video name given\n",
    "        \"\"\"\n",
    "        video_name = self.abs_path + \"\\\\\" + self.file_name\n",
    "        \n",
    "        path = self.abs_path + \"\\\\\" + video_clips_folder + \"\\\\\" # where the video clips will be stored\n",
    "\n",
    "        # cut the videos into about 1 minute clips\n",
    "        start_time = 0\n",
    "        while start_time < self.clip_duration():\n",
    "            if self.clip_duration() - start_time > 60:\n",
    "                end_time = start_time + 60\n",
    "            else:\n",
    "                end_time = self.clip_duration()\n",
    "            target_name = path + str(round(start_time,0)) + \"thframe.mp4\"\n",
    "\n",
    "            ffmpeg_extract_subclip(video_name, start_time, end_time, targetname= target_name)\n",
    "\n",
    "            start_time = end_time\n",
    "            \n",
    "    def clips_list(self, video_clips_folder):\n",
    "        \"\"\"\n",
    "        This function returns a list of all videos in the given folder\n",
    "\n",
    "        parameter:\n",
    "        ==========\n",
    "            video_clips_folder: folder name where you want the list of video clips. Should exist in current working dir\n",
    "        output:\n",
    "        =======\n",
    "            list: list of all video clips in the folder\n",
    "        \"\"\"\n",
    "        import os\n",
    "        clips_list = []\n",
    "        # Iterate directory\n",
    "        dir_path = self.abs_path + \"\\\\\" + video_clips_folder + \"\\\\\"\n",
    "        for path in os.listdir(dir_path):\n",
    "            # check if current path is a file\n",
    "            if os.path.isfile(os.path.join(dir_path, path)):\n",
    "                clips_list.append(path)\n",
    "        return clips_list\n",
    "    \n",
    "    def clips_location_list(self, video_clips_folder):\n",
    "        \"\"\"\n",
    "        This function returns a list of absolute path of all videos in the given folder\n",
    "\n",
    "        parameter:\n",
    "        ==========\n",
    "            video_clips_folder: folder name where you want the list of video clips location.\n",
    "        output:\n",
    "        =======\n",
    "            list: list of locations of all video clips in the folder\n",
    "        \"\"\"\n",
    "        import os\n",
    "        clips_location_list = []\n",
    "        # Iterate directory\n",
    "        dir_path = video_clips_folder + \"\\\\\"\n",
    "        for path in os.listdir(dir_path):\n",
    "            # check if current path is a file\n",
    "            if os.path.isfile(os.path.join(dir_path, path)):\n",
    "                clips_location_list.append(dir_path + path)\n",
    "        return clips_location_list"
   ]
  },
  {
   "cell_type": "code",
   "execution_count": 3,
   "metadata": {},
   "outputs": [],
   "source": [
    "airshow = CutVideo(file_name, abs_path)"
   ]
  },
  {
   "cell_type": "markdown",
   "metadata": {},
   "source": [
    "Get the total duration of the video you want to cut into clips"
   ]
  },
  {
   "cell_type": "code",
   "execution_count": 4,
   "metadata": {
    "scrolled": true
   },
   "outputs": [
    {
     "name": "stdout",
     "output_type": "stream",
     "text": [
      "309.88\n"
     ]
    }
   ],
   "source": [
    "airshow_duration = airshow.clip_duration()\n",
    "print(airshow_duration)"
   ]
  },
  {
   "cell_type": "markdown",
   "metadata": {},
   "source": [
    "Cut the video into about 1 minute clips"
   ]
  },
  {
   "cell_type": "code",
   "execution_count": 5,
   "metadata": {},
   "outputs": [
    {
     "name": "stdout",
     "output_type": "stream",
     "text": [
      "Moviepy - Running:\n",
      ">>> \"+ \" \".join(cmd)\n",
      "Moviepy - Command successful\n",
      "Moviepy - Running:\n",
      ">>> \"+ \" \".join(cmd)\n",
      "Moviepy - Command successful\n",
      "Moviepy - Running:\n",
      ">>> \"+ \" \".join(cmd)\n",
      "Moviepy - Command successful\n",
      "Moviepy - Running:\n",
      ">>> \"+ \" \".join(cmd)\n",
      "Moviepy - Command successful\n",
      "Moviepy - Running:\n",
      ">>> \"+ \" \".join(cmd)\n",
      "Moviepy - Command successful\n",
      "Moviepy - Running:\n",
      ">>> \"+ \" \".join(cmd)\n",
      "Moviepy - Command successful\n"
     ]
    }
   ],
   "source": [
    "# Create New folder \"video_clips\"\n",
    "folder_name = \"video_clips\"\n",
    "airshow.create_folder(folder_name)\n",
    "\n",
    "# Cut the video \"airshow.mp4\" into 1 minute clips and save inside the \"video_clips\" folder\n",
    "\n",
    "airshow.cut_clip(folder_name)"
   ]
  },
  {
   "cell_type": "markdown",
   "metadata": {},
   "source": [
    "Prepare the data required to populate the postgres table"
   ]
  },
  {
   "cell_type": "code",
   "execution_count": 6,
   "metadata": {
    "scrolled": true
   },
   "outputs": [
    {
     "name": "stdout",
     "output_type": "stream",
     "text": [
      "clip_list_name:  ['0thframe.mp4', '120thframe.mp4', '180thframe.mp4', '240thframe.mp4', '300thframe.mp4', '60thframe.mp4']\n",
      "\n",
      "clip_duration_list:  [60.03, 60.61, 60.53, 60.49, 10.29, 60.96]\n",
      "\n",
      "clip_location_list:  ['video_clips\\\\0thframe.mp4', 'video_clips\\\\120thframe.mp4', 'video_clips\\\\180thframe.mp4', 'video_clips\\\\240thframe.mp4', 'video_clips\\\\300thframe.mp4', 'video_clips\\\\60thframe.mp4']\n"
     ]
    }
   ],
   "source": [
    "# prepare the data required to update the postgres db\n",
    "clip_list = airshow.clips_list(folder_name)\n",
    "clip_loc_list = airshow.clips_location_list(folder_name)\n",
    "\n",
    "def clip_duration(video_name):\n",
    "    \"\"\"\n",
    "    This function returns the duration of a given mp4 video\n",
    "    \n",
    "    parameter:\n",
    "    ==========\n",
    "        video_name: filename(\"with mp4 extention\") of the video that you want to get the duration for.\n",
    "    output:\n",
    "    =======\n",
    "        duration: duration in seconds for the video file name entered.\n",
    "    \"\"\"\n",
    "    from moviepy.editor import VideoFileClip\n",
    "    clip = VideoFileClip(video_name)\n",
    "    clip_duration = clip.duration\n",
    "    return clip_duration\n",
    "\n",
    "clip_dur_list = []\n",
    "for vid in clip_loc_list:\n",
    "    duration = clip_duration(vid)\n",
    "    clip_dur_list.append(duration)\n",
    "\n",
    "\n",
    "\n",
    "print(\"clip_list_name: \", clip_list)\n",
    "print()\n",
    "print(\"clip_duration_list: \", clip_dur_list)\n",
    "print()\n",
    "print(\"clip_location_list: \", clip_loc_list)"
   ]
  },
  {
   "cell_type": "code",
   "execution_count": 7,
   "metadata": {},
   "outputs": [],
   "source": [
    "# create table query\n",
    "create_table_query = '''\n",
    "        CREATE TABLE IF NOT EXISTS video_data (\n",
    "            clip_name VARCHAR(25),\n",
    "            clip_file_extension VARCHAR(5),\n",
    "            clip_duration NUMERIC (7, 2),\n",
    "            clip_location VARCHAR(200),\n",
    "            insert_timestamp TIMESTAMP\n",
    "        );\n",
    "        '''"
   ]
  },
  {
   "cell_type": "markdown",
   "metadata": {},
   "source": [
    "Make connection to postgress database"
   ]
  },
  {
   "cell_type": "code",
   "execution_count": 8,
   "metadata": {},
   "outputs": [
    {
     "name": "stdout",
     "output_type": "stream",
     "text": [
      "Enter your database password: ········\n"
     ]
    }
   ],
   "source": [
    "# create a connection to postgress\n",
    "import psycopg2 as pg2\n",
    "from getpass import getpass\n",
    "password = getpass(prompt = \"Enter your database password: \")\n",
    "conn = pg2.connect(database='learning', user='postgres',password = password)"
   ]
  },
  {
   "cell_type": "code",
   "execution_count": 9,
   "metadata": {},
   "outputs": [],
   "source": [
    "# Start the cursor to be ready to query\n",
    "cur = conn.cursor()"
   ]
  },
  {
   "cell_type": "markdown",
   "metadata": {},
   "source": [
    "Create video_data table in postgres "
   ]
  },
  {
   "cell_type": "code",
   "execution_count": 10,
   "metadata": {},
   "outputs": [],
   "source": [
    "# Create video_data table in postgres\n",
    "\n",
    "cur.execute(\"DROP TABLE IF EXISTS video_data\")\n",
    "cur.execute(create_table_query)\n",
    "conn.commit()"
   ]
  },
  {
   "cell_type": "markdown",
   "metadata": {},
   "source": [
    "Insert the records into postgres"
   ]
  },
  {
   "cell_type": "code",
   "execution_count": 11,
   "metadata": {},
   "outputs": [],
   "source": [
    "# insert the values into the video_data table\n",
    "from datetime import datetime, timezone\n",
    "\n",
    "insert = \"\"\"INSERT INTO video_data VALUES (%s, %s, %s, %s, %s) \"\"\"\n",
    "\n",
    "values0 = (f\"{clip_list[0][:-4]}\", f\"{clip_list[0][-3:]}\", clip_dur_list[0], f\"{clip_loc_list[0]}\", datetime.now(timezone.utc))\n",
    "values1 = (f\"{clip_list[1][:-4]}\", f\"{clip_list[1][-3:]}\", clip_dur_list[1], f\"{clip_loc_list[1]}\", datetime.now(timezone.utc))\n",
    "values2 = (f\"{clip_list[2][:-4]}\", f\"{clip_list[2][-3:]}\", clip_dur_list[2], f\"{clip_loc_list[2]}\", datetime.now(timezone.utc))\n",
    "values3 = (f\"{clip_list[3][:-4]}\", f\"{clip_list[3][-3:]}\", clip_dur_list[3], f\"{clip_loc_list[3]}\", datetime.now(timezone.utc))\n",
    "values4 = (f\"{clip_list[4][:-4]}\", f\"{clip_list[4][-3:]}\", clip_dur_list[4], f\"{clip_loc_list[4]}\", datetime.now(timezone.utc))\n",
    "values5 = (f\"{clip_list[5][:-4]}\", f\"{clip_list[5][-3:]}\", clip_dur_list[5], f\"{clip_loc_list[5]}\", datetime.now(timezone.utc))\n",
    "\n",
    "cur.execute(insert, values0)\n",
    "cur.execute(insert, values1)\n",
    "cur.execute(insert, values2)\n",
    "cur.execute(insert, values3)\n",
    "cur.execute(insert, values4)\n",
    "cur.execute(insert, values5)\n",
    "conn.commit()"
   ]
  },
  {
   "cell_type": "markdown",
   "metadata": {},
   "source": [
    "Read the records in postgres database into a pandas dataframe"
   ]
  },
  {
   "cell_type": "code",
   "execution_count": 12,
   "metadata": {},
   "outputs": [],
   "source": [
    "# read table in postgres into pandas dataframe\n",
    "import pandas.io.sql as psql\n",
    "video_data_table = psql.read_sql_query(\"SELECT * FROM video_data\", conn)\n",
    "\n",
    "# close the connection\n",
    "conn.close()"
   ]
  },
  {
   "cell_type": "code",
   "execution_count": 13,
   "metadata": {},
   "outputs": [
    {
     "data": {
      "text/html": [
       "<div>\n",
       "<style scoped>\n",
       "    .dataframe tbody tr th:only-of-type {\n",
       "        vertical-align: middle;\n",
       "    }\n",
       "\n",
       "    .dataframe tbody tr th {\n",
       "        vertical-align: top;\n",
       "    }\n",
       "\n",
       "    .dataframe thead th {\n",
       "        text-align: right;\n",
       "    }\n",
       "</style>\n",
       "<table border=\"1\" class=\"dataframe\">\n",
       "  <thead>\n",
       "    <tr style=\"text-align: right;\">\n",
       "      <th></th>\n",
       "      <th>clip_name</th>\n",
       "      <th>clip_file_extension</th>\n",
       "      <th>clip_duration</th>\n",
       "      <th>clip_location</th>\n",
       "      <th>insert_timestamp</th>\n",
       "    </tr>\n",
       "  </thead>\n",
       "  <tbody>\n",
       "    <tr>\n",
       "      <th>0</th>\n",
       "      <td>0thframe</td>\n",
       "      <td>mp4</td>\n",
       "      <td>60.03</td>\n",
       "      <td>video_clips\\0thframe.mp4</td>\n",
       "      <td>2022-08-24 15:07:19.613144</td>\n",
       "    </tr>\n",
       "    <tr>\n",
       "      <th>1</th>\n",
       "      <td>120thframe</td>\n",
       "      <td>mp4</td>\n",
       "      <td>60.61</td>\n",
       "      <td>video_clips\\120thframe.mp4</td>\n",
       "      <td>2022-08-24 15:07:19.613144</td>\n",
       "    </tr>\n",
       "    <tr>\n",
       "      <th>2</th>\n",
       "      <td>180thframe</td>\n",
       "      <td>mp4</td>\n",
       "      <td>60.53</td>\n",
       "      <td>video_clips\\180thframe.mp4</td>\n",
       "      <td>2022-08-24 15:07:19.614141</td>\n",
       "    </tr>\n",
       "    <tr>\n",
       "      <th>3</th>\n",
       "      <td>240thframe</td>\n",
       "      <td>mp4</td>\n",
       "      <td>60.49</td>\n",
       "      <td>video_clips\\240thframe.mp4</td>\n",
       "      <td>2022-08-24 15:07:19.614141</td>\n",
       "    </tr>\n",
       "    <tr>\n",
       "      <th>4</th>\n",
       "      <td>300thframe</td>\n",
       "      <td>mp4</td>\n",
       "      <td>10.29</td>\n",
       "      <td>video_clips\\300thframe.mp4</td>\n",
       "      <td>2022-08-24 15:07:19.614141</td>\n",
       "    </tr>\n",
       "    <tr>\n",
       "      <th>5</th>\n",
       "      <td>60thframe</td>\n",
       "      <td>mp4</td>\n",
       "      <td>60.96</td>\n",
       "      <td>video_clips\\60thframe.mp4</td>\n",
       "      <td>2022-08-24 15:07:19.614141</td>\n",
       "    </tr>\n",
       "  </tbody>\n",
       "</table>\n",
       "</div>"
      ],
      "text/plain": [
       "    clip_name clip_file_extension  clip_duration               clip_location  \\\n",
       "0    0thframe                 mp4          60.03    video_clips\\0thframe.mp4   \n",
       "1  120thframe                 mp4          60.61  video_clips\\120thframe.mp4   \n",
       "2  180thframe                 mp4          60.53  video_clips\\180thframe.mp4   \n",
       "3  240thframe                 mp4          60.49  video_clips\\240thframe.mp4   \n",
       "4  300thframe                 mp4          10.29  video_clips\\300thframe.mp4   \n",
       "5   60thframe                 mp4          60.96   video_clips\\60thframe.mp4   \n",
       "\n",
       "            insert_timestamp  \n",
       "0 2022-08-24 15:07:19.613144  \n",
       "1 2022-08-24 15:07:19.613144  \n",
       "2 2022-08-24 15:07:19.614141  \n",
       "3 2022-08-24 15:07:19.614141  \n",
       "4 2022-08-24 15:07:19.614141  \n",
       "5 2022-08-24 15:07:19.614141  "
      ]
     },
     "execution_count": 13,
     "metadata": {},
     "output_type": "execute_result"
    }
   ],
   "source": [
    "video_data_table"
   ]
  },
  {
   "cell_type": "markdown",
   "metadata": {},
   "source": [
    "Save the pandas dataframe into a csv file in folder report"
   ]
  },
  {
   "cell_type": "code",
   "execution_count": 14,
   "metadata": {},
   "outputs": [],
   "source": [
    "# create folder \"report\"\n",
    "\n",
    "def create_folder(folder_name):\n",
    "    \"\"\"This function creates a folder called 'folder_name' in the current working directory\n",
    "\n",
    "    parameter:\n",
    "    =========\n",
    "        folder_name: name of the folder you want to create\n",
    "    \"\"\"\n",
    "    import os\n",
    "    path_name = folder_name\n",
    "    if not os.path.exists(path_name):\n",
    "        os.makedirs(path_name)\n",
    "        \n",
    "create_folder(\"report\")"
   ]
  },
  {
   "cell_type": "code",
   "execution_count": 15,
   "metadata": {},
   "outputs": [],
   "source": [
    "# save the pandas dataframe into a csv file located in \"report\" folder\n",
    "path_name = \"report/generated_video_files.csv\"\n",
    "video_data_table.to_csv(path_name)"
   ]
  }
 ],
 "metadata": {
  "kernelspec": {
   "display_name": "Python 3",
   "language": "python",
   "name": "python3"
  },
  "language_info": {
   "codemirror_mode": {
    "name": "ipython",
    "version": 3
   },
   "file_extension": ".py",
   "mimetype": "text/x-python",
   "name": "python",
   "nbconvert_exporter": "python",
   "pygments_lexer": "ipython3",
   "version": "3.8.5"
  }
 },
 "nbformat": 4,
 "nbformat_minor": 5
}
