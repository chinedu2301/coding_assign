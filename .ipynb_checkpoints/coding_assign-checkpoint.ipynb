{
 "cells": [
  {
   "cell_type": "code",
   "execution_count": 34,
   "id": "a4e65b5d",
   "metadata": {},
   "outputs": [],
   "source": [
    "abs_path = 'C:\\\\Users\\\\exper\\\\OneDrive\\\\Documents\\\\Jobs\\\\Interviews\\\\ATT\\\\attcoding'\n",
    "file_name = \"airshow.mp4\""
   ]
  },
  {
   "cell_type": "code",
   "execution_count": 101,
   "id": "b4efeafc",
   "metadata": {},
   "outputs": [],
   "source": [
    "class CutVideo:\n",
    "    \n",
    "    def __init__(self, file_name, abs_path):\n",
    "        \"file_name: filename(with mp4 extention) of the video.\"\n",
    "        self.file_name = file_name\n",
    "        \n",
    "    \n",
    "    def create_folder(self, folder_name):\n",
    "        \"\"\"This function creates a folder called 'folder_name' in the abs_path given\n",
    "        \n",
    "        parameter:\n",
    "        =========\n",
    "            folder_name: name of the folder you want to create\n",
    "        \"\"\"\n",
    "        import os\n",
    "        path_name = abs_path + \"\\\\\" + folder_name\n",
    "        if not os.path.exists(path_name):\n",
    "            os.makedirs(path_name)\n",
    "    \n",
    "    def clip_duration(self):\n",
    "        \"\"\"\n",
    "        This function returns the duration of a given mp4 video\n",
    "\n",
    "        parameter:\n",
    "        ==========\n",
    "            file_name: filename(\"with mp4 extention\") of the video that you want to get the duration for.\n",
    "        output:\n",
    "        =======\n",
    "            duration: duration in seconds for the video file name entered.\n",
    "        \"\"\"\n",
    "        import os\n",
    "        from moviepy.editor import VideoFileClip\n",
    "        clip_path = abs_path + \"\\\\\" + self.file_name\n",
    "        clip = VideoFileClip(clip_path)\n",
    "        clip_duration = clip.duration\n",
    "        return clip_duration\n",
    "    \n",
    "    def cut_clip(self, video_clips_folder):\n",
    "        import os\n",
    "        from moviepy.video.io.ffmpeg_tools import ffmpeg_extract_subclip\n",
    "        \"\"\"\n",
    "        This function cuts a video returns about 1 minute clips of a given mp4 video\n",
    "\n",
    "        parameter:\n",
    "        ==========\n",
    "            video_clips_folder: folder name where you want the video clips to be stored. Should exist in current working dir\n",
    "        output:\n",
    "        =======\n",
    "            1 minute clips: one minute clips of the video name given\n",
    "        \"\"\"\n",
    "        video_name = abs_path + \"\\\\\" + self.file_name\n",
    "        \n",
    "        path = abs_path + \"\\\\\" + video_clips_folder + \"\\\\\" # where the video clips will be stored\n",
    "\n",
    "        # cut the videos into about 1 minute clips\n",
    "        start_time = 0\n",
    "        while start_time < self.clip_duration():\n",
    "            if self.clip_duration() - start_time > 60:\n",
    "                end_time = start_time + 60\n",
    "            else:\n",
    "                end_time = self.clip_duration()\n",
    "            target_name = path + str(round(start_time,0)) + \"thframe.mp4\"\n",
    "\n",
    "            ffmpeg_extract_subclip(video_name, start_time, end_time, targetname= target_name)\n",
    "\n",
    "            start_time = end_time\n",
    "            \n",
    "    def clips_list(self, video_clips_folder):\n",
    "        \"\"\"\n",
    "        This function returns a list of all videos in the given folder\n",
    "\n",
    "        parameter:\n",
    "        ==========\n",
    "            video_clips_folder: folder name where you want the list of video clips. Should exist in current working dir\n",
    "        output:\n",
    "        =======\n",
    "            list: list of all video clips in the folder\n",
    "        \"\"\"\n",
    "        clips_list = []\n",
    "        # Iterate directory\n",
    "        dir_path = abs_path + \"\\\\\" + video_clips_folder + \"\\\\\"\n",
    "        for path in os.listdir(dir_path):\n",
    "            # check if current path is a file\n",
    "            if os.path.isfile(os.path.join(dir_path, path)):\n",
    "                clips_list.append(path)\n",
    "        return clips_list\n",
    "    \n",
    "    def clips_duration_list(self, video_clips_folder):\n",
    "        \"\"\"\n",
    "        This function returns a list of durations of all video clips in the given folder\n",
    "\n",
    "        parameter:\n",
    "        ==========\n",
    "            video_clips_folder: folder name where you want the list of video clips. Should exist in current working dir\n",
    "        output:\n",
    "        =======\n",
    "            list: list of durations of all video clips in the folder\n",
    "        \"\"\"\n",
    "        self.clips_list(video_clips_folder)\n",
    "        clip_duration_list = []\n",
    "        for vid in clip_list:\n",
    "            duration = clip_duration(vid)\n",
    "            clip_duration_list.append(duration)\n",
    "        return clip_duration_list\n",
    "    \n",
    "    def clips_location_list(self, video_clips_folder):\n",
    "        \"\"\"\n",
    "        This function returns a list of absolute path of all videos in the given folder\n",
    "\n",
    "        parameter:\n",
    "        ==========\n",
    "            video_clips_folder: folder name where you want the list of video clips location.\n",
    "        output:\n",
    "        =======\n",
    "            list: list of locations of all video clips in the folder\n",
    "        \"\"\"\n",
    "        clips_location_list = []\n",
    "        # Iterate directory\n",
    "        dir_path = abs_path + \"\\\\\" + video_clips_folder + \"\\\\\"\n",
    "        for path in os.listdir(dir_path):\n",
    "            # check if current path is a file\n",
    "            if os.path.isfile(os.path.join(dir_path, path)):\n",
    "                clips_location_list.append(dir_path + path)\n",
    "        return clips_location_list"
   ]
  },
  {
   "cell_type": "code",
   "execution_count": 102,
   "id": "1957005c",
   "metadata": {},
   "outputs": [],
   "source": [
    "airshow = CutVideo(\"airshow.mp4\", abs_path)"
   ]
  },
  {
   "cell_type": "code",
   "execution_count": 103,
   "id": "89bf52ac",
   "metadata": {
    "scrolled": true
   },
   "outputs": [
    {
     "data": {
      "text/plain": [
       "309.88"
      ]
     },
     "execution_count": 103,
     "metadata": {},
     "output_type": "execute_result"
    }
   ],
   "source": [
    "airshow.clip_duration()"
   ]
  },
  {
   "cell_type": "code",
   "execution_count": 104,
   "id": "cd68a4f5",
   "metadata": {},
   "outputs": [],
   "source": [
    "airshow.create_folder(\"newone\")"
   ]
  },
  {
   "cell_type": "code",
   "execution_count": 105,
   "id": "d30427da",
   "metadata": {},
   "outputs": [
    {
     "name": "stdout",
     "output_type": "stream",
     "text": [
      "Moviepy - Running:\n",
      ">>> \"+ \" \".join(cmd)\n",
      "Moviepy - Command successful\n",
      "Moviepy - Running:\n",
      ">>> \"+ \" \".join(cmd)\n",
      "Moviepy - Command successful\n",
      "Moviepy - Running:\n",
      ">>> \"+ \" \".join(cmd)\n",
      "Moviepy - Command successful\n",
      "Moviepy - Running:\n",
      ">>> \"+ \" \".join(cmd)\n",
      "Moviepy - Command successful\n",
      "Moviepy - Running:\n",
      ">>> \"+ \" \".join(cmd)\n",
      "Moviepy - Command successful\n",
      "Moviepy - Running:\n",
      ">>> \"+ \" \".join(cmd)\n",
      "Moviepy - Command successful\n"
     ]
    }
   ],
   "source": [
    "airshow.cut_clip(\"newone\")"
   ]
  },
  {
   "cell_type": "code",
   "execution_count": 106,
   "id": "5bd74ed5",
   "metadata": {
    "scrolled": false
   },
   "outputs": [
    {
     "data": {
      "text/plain": [
       "['0thframe.mp4',\n",
       " '120thframe.mp4',\n",
       " '180thframe.mp4',\n",
       " '240thframe.mp4',\n",
       " '300thframe.mp4',\n",
       " '60thframe.mp4']"
      ]
     },
     "execution_count": 106,
     "metadata": {},
     "output_type": "execute_result"
    }
   ],
   "source": [
    "clip_list = airshow.clips_list(\"newone\")\n",
    "clip_list"
   ]
  },
  {
   "cell_type": "code",
   "execution_count": 107,
   "id": "dd4648f7",
   "metadata": {},
   "outputs": [
    {
     "data": {
      "text/plain": [
       "[60.03, 60.61, 60.53, 60.49, 10.29, 60.96]"
      ]
     },
     "execution_count": 107,
     "metadata": {},
     "output_type": "execute_result"
    }
   ],
   "source": [
    "airshow.clips_duration_list(\"newone\")"
   ]
  },
  {
   "cell_type": "code",
   "execution_count": 108,
   "id": "c087499e",
   "metadata": {},
   "outputs": [
    {
     "data": {
      "text/plain": [
       "['C:\\\\Users\\\\exper\\\\OneDrive\\\\Documents\\\\Jobs\\\\Interviews\\\\ATT\\\\attcoding\\\\newone\\\\0thframe.mp4',\n",
       " 'C:\\\\Users\\\\exper\\\\OneDrive\\\\Documents\\\\Jobs\\\\Interviews\\\\ATT\\\\attcoding\\\\newone\\\\120thframe.mp4',\n",
       " 'C:\\\\Users\\\\exper\\\\OneDrive\\\\Documents\\\\Jobs\\\\Interviews\\\\ATT\\\\attcoding\\\\newone\\\\180thframe.mp4',\n",
       " 'C:\\\\Users\\\\exper\\\\OneDrive\\\\Documents\\\\Jobs\\\\Interviews\\\\ATT\\\\attcoding\\\\newone\\\\240thframe.mp4',\n",
       " 'C:\\\\Users\\\\exper\\\\OneDrive\\\\Documents\\\\Jobs\\\\Interviews\\\\ATT\\\\attcoding\\\\newone\\\\300thframe.mp4',\n",
       " 'C:\\\\Users\\\\exper\\\\OneDrive\\\\Documents\\\\Jobs\\\\Interviews\\\\ATT\\\\attcoding\\\\newone\\\\60thframe.mp4']"
      ]
     },
     "execution_count": 108,
     "metadata": {},
     "output_type": "execute_result"
    }
   ],
   "source": [
    "airshow.clips_location_list(\"newone\")"
   ]
  },
  {
   "cell_type": "code",
   "execution_count": 89,
   "id": "818562a2",
   "metadata": {},
   "outputs": [
    {
     "data": {
      "text/plain": [
       "'mp4'"
      ]
     },
     "execution_count": 89,
     "metadata": {},
     "output_type": "execute_result"
    }
   ],
   "source": [
    "clip_list[0][-3:]"
   ]
  },
  {
   "cell_type": "code",
   "execution_count": 85,
   "id": "51fbb6f7",
   "metadata": {},
   "outputs": [],
   "source": [
    "def clip_duration(video_name):\n",
    "    \"\"\"\n",
    "    This function returns the duration of a given mp4 video\n",
    "    \n",
    "    parameter:\n",
    "    ==========\n",
    "        video_name: filename(\"with mp4 extention\") of the video that you want to get the duration for.\n",
    "    output:\n",
    "    =======\n",
    "        duration: duration in seconds for the video file name entered.\n",
    "    \"\"\"\n",
    "    from moviepy.editor import VideoFileClip\n",
    "    clip = VideoFileClip(video_name)\n",
    "    clip_duration = clip.duration\n",
    "    return clip_duration"
   ]
  },
  {
   "cell_type": "code",
   "execution_count": 86,
   "id": "a614f745",
   "metadata": {},
   "outputs": [],
   "source": [
    "clip_duration_list = []\n",
    "for vid in clip_list:\n",
    "    duration = clip_duration(vid)\n",
    "    clip_duration_list.append(duration)"
   ]
  },
  {
   "cell_type": "code",
   "execution_count": 90,
   "id": "dd4b1cdb",
   "metadata": {},
   "outputs": [
    {
     "data": {
      "text/plain": [
       "60.03"
      ]
     },
     "execution_count": 90,
     "metadata": {},
     "output_type": "execute_result"
    }
   ],
   "source": [
    "clip_duration(clip_list[0])"
   ]
  },
  {
   "cell_type": "code",
   "execution_count": 87,
   "id": "71e14076",
   "metadata": {},
   "outputs": [
    {
     "data": {
      "text/plain": [
       "[60.03, 60.61, 60.53, 60.49, 10.29, 60.96]"
      ]
     },
     "execution_count": 87,
     "metadata": {},
     "output_type": "execute_result"
    }
   ],
   "source": [
    "clip_duration_list"
   ]
  },
  {
   "cell_type": "code",
   "execution_count": 70,
   "id": "f4f08eb8",
   "metadata": {
    "scrolled": true
   },
   "outputs": [
    {
     "name": "stdout",
     "output_type": "stream",
     "text": [
      "Collecting psycopg2\n",
      "  Downloading psycopg2-2.9.3-cp38-cp38-win_amd64.whl (1.1 MB)\n",
      "Installing collected packages: psycopg2\n",
      "Successfully installed psycopg2-2.9.3\n",
      "Note: you may need to restart the kernel to use updated packages.\n"
     ]
    }
   ],
   "source": [
    "pip install psycopg2"
   ]
  },
  {
   "cell_type": "code",
   "execution_count": null,
   "id": "83aee823",
   "metadata": {},
   "outputs": [],
   "source": [
    "# create a connection to postgress\n",
    "import psycopg2 as pg2\n",
    "from getpass import getpass\n",
    "conn = pg2.connect(database='learning', user='postgres',password = password)"
   ]
  },
  {
   "cell_type": "code",
   "execution_count": null,
   "id": "5d3a4145",
   "metadata": {},
   "outputs": [],
   "source": [
    "cur = conn.cursor()"
   ]
  },
  {
   "cell_type": "code",
   "execution_count": 71,
   "id": "a4cb8cf4",
   "metadata": {},
   "outputs": [],
   "source": [
    "from getpass import getpass"
   ]
  },
  {
   "cell_type": "code",
   "execution_count": 72,
   "id": "e16497b0",
   "metadata": {},
   "outputs": [
    {
     "name": "stdout",
     "output_type": "stream",
     "text": [
      "Enter your database password: ········\n"
     ]
    }
   ],
   "source": [
    "password = getpass(prompt = \"Enter your database password: \")"
   ]
  },
  {
   "cell_type": "code",
   "execution_count": 73,
   "id": "15fc3753",
   "metadata": {},
   "outputs": [
    {
     "data": {
      "text/plain": [
       "'Ella2015'"
      ]
     },
     "execution_count": 73,
     "metadata": {},
     "output_type": "execute_result"
    }
   ],
   "source": [
    "password"
   ]
  },
  {
   "cell_type": "markdown",
   "id": "77855a82",
   "metadata": {},
   "source": [
    "4.\tCreate table video_data in PostgresSQL database with the following columns:\n",
    "a.\tclip_name (name of the video clip created in section 2 above, excluding file extension);\n",
    "b.\tclip_file_extension (file extension of the video clip created in section 2 above);\n",
    "c.\tclip_duration (duration of the video clip created in section 2 above);\n",
    "d.\tclip_location (location of the video clip created in section 2 above. It can be local path to the project directory or the absolute path);\n",
    "e.\tinsert_timestamp (a timestamp when a record has been inserted into a table).\n"
   ]
  },
  {
   "cell_type": "code",
   "execution_count": null,
   "id": "45d2fe62",
   "metadata": {},
   "outputs": [],
   "source": [
    "create_table_query = '''\n",
    "        CREATE TABLE IF NOT EXISTS video_data (\n",
    "            clip_name VARCHAR(25),\n",
    "            clip_file_extension VARCHAR(5),\n",
    "            clip_duration NUMERIC (7, 2),\n",
    "            clip_location VARCHAR(200),\n",
    "            insert_timestamp TIMESTAMP\n",
    "        );\n",
    "        '''"
   ]
  },
  {
   "cell_type": "code",
   "execution_count": null,
   "id": "c808a8dd",
   "metadata": {},
   "outputs": [],
   "source": [
    "insert_table_query = f\"\"\"\n",
    "    INSERT INTO video_data(clip_name, clip_file_extension, clip_duration, clip_location,insert_timestamp)\n",
    "    VALUES ({clip_list[0]}, {clip_list[0][-3:]}, {clip_duration_list[0]}, {clip_location_list[0]}, current_timestamp),\n",
    "    VALUES ({clip_list[1]}, {clip_list[1][-3:]}, {clip_duration_list[1]}, {clip_location_list[1]}, current_timestamp),\n",
    "    VALUES ({clip_list[2]}, {clip_list[2][-3:]}, {clip_duration_list[2]}, {clip_location_list[2]}, current_timestamp),\n",
    "    VALUES ({clip_list[3]}, {clip_list[3][-3:]}, {clip_duration_list[3]}, {clip_location_list[3]}, current_timestamp),\n",
    "    VALUES ({clip_list[4]}, {clip_list[4][-3:]}, {clip_duration_list[4]}, {clip_location_list[4]}, current_timestamp),\n",
    "    VALUES ({clip_list[5]}, {clip_list[5][-3:]}, {clip_duration_list[5]}, {clip_location_list[5]}, current_timestamp)\n",
    "    ;\n",
    "\"\"\""
   ]
  }
 ],
 "metadata": {
  "kernelspec": {
   "display_name": "Python 3",
   "language": "python",
   "name": "python3"
  },
  "language_info": {
   "codemirror_mode": {
    "name": "ipython",
    "version": 3
   },
   "file_extension": ".py",
   "mimetype": "text/x-python",
   "name": "python",
   "nbconvert_exporter": "python",
   "pygments_lexer": "ipython3",
   "version": "3.8.8"
  }
 },
 "nbformat": 4,
 "nbformat_minor": 5
}
